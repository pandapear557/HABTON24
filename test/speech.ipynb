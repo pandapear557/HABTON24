{
 "cells": [
  {
   "cell_type": "code",
   "execution_count": 2,
   "metadata": {},
   "outputs": [
    {
     "name": "stdout",
     "output_type": "stream",
     "text": [
      "Mac; 5gcJMSHPvZx5Ja5NGaUl\n",
      "Tatiana; F59Bv0jP18ftxRfYvYo5\n",
      "Chris Myers - Calm and Gritty Stories; CuVmfnTrqFO3SGkUphBb\n",
      "Rick Myers -  Authorative and Gritty; 6szwenDPpDrv7bNhkxf0\n",
      "Koro; cwdmeUHVFO9BmZhUar4w\n",
      "Elias - Social Media, Podcasts, Conversations & Discussions; v7QyOKVRzHDBpjhEZHqo\n",
      "Susi; v3V1d2rk6528UrLKRuy8\n",
      "Daniel for Social Media - to explain, describe and tell; RZEYdP5TGkosE9j92hJJ\n",
      "Apollo - Radio Host & Radio News Presenter Voice; 1h6gHcRvQugDNZgdAo9N\n",
      "Arabella; Z3R5wn05IrDiVCyEkUrK\n",
      "Southern Stewart; 8m1czIThVKew8yZygU0W\n",
      "Anand - Storytelling and Narration Hindi; fKe9ZDqkOtN9VMLdbWJ5\n",
      "Benjamin - Deep, Warm, Calming; LruHrtVF6PSyGItzMNHS\n",
      "Ivan the Mighty; pO3rCaEbT3xVc0h3pPoG\n",
      "Christian Avilés - documentales, e-learning, corporativos y Redes Sociales; CnjIcrJsHPgeEdwT3X8q\n",
      "Nick - Sales Optimism; irCCH9VIp5O8mr0fKdMf\n",
      "John Fernandes - Energetic & Friendly; BZ7QSotEmGyFMP8nbbhC\n",
      "Hans Kraft; WPbK7Qv9rbyhvUDiwJ0A\n",
      "Miranda; PoHUWWWMHFrA8z7Q88pu\n",
      "Raoní Allan; wEIi207XhK1irB84oelH\n",
      "Corentin; IHngRooVccHyPqB4uQkG\n",
      "Nik Ivanov; 3faLw6tqzw5w1UZMFTgL\n",
      "Sina - Your Narrator; 9NpEDzDw8nThPKSaMmFk\n",
      "Beth - gentle and nurturing; 8N2ng9i2uiUWqstgmWlH\n",
      "Alejandro Durán; sKgg4MPUDBy69X7iv3fA\n",
      "Lee - Calm and Relaxed; FgdgRYMybMyZpRRF8Dw8\n",
      "Archie - English teen youth; kmSVBPu7loj4ayNinwWM\n",
      "Darrel Documentaries ; ABbHrI9BGHhVSdyFaJwG\n",
      "Caleb -  Calm, cool, casual ; XMq0P58sjYQ45PpUlRX4\n",
      "Aaditya Kapur - Calm Conversational Voice; xMagNCpMgZ83QOEsHNre\n"
     ]
    }
   ],
   "source": [
    "import requests\n",
    "import os\n",
    "from dotenv import load_dotenv\n",
    "\n",
    "load_dotenv()\n",
    "\n",
    "XI_API_KEY = os.environ['XI_API_KEY']\n",
    "\n",
    "headers = {\n",
    "  \"Accept\": \"application/json\",\n",
    "  \"xi-api-key\": XI_API_KEY,\n",
    "  \"Content-Type\": \"application/json\"\n",
    "}\n",
    "url = \"https://api.elevenlabs.io/v1/shared-voices\"\n",
    "\n",
    "response = requests.get(url, headers=headers)\n",
    "\n",
    "data = response.json()\n",
    "for voice in data['voices']:\n",
    "  # For each 'voice', the 'name' and 'voice_id' are printed out. \n",
    "  # These keys in the voice dictionary contain values that provide information about the specific voice.\n",
    "  print(f\"{voice['name']}; {voice['voice_id']}\")\n"
   ]
  },
  {
   "cell_type": "code",
   "execution_count": null,
   "metadata": {},
   "outputs": [],
   "source": [
    "\n",
    "url = \"https://api.elevenlabs.io/v1/voices/add\"\n",
    "\n",
    "payload = \"-----011000010111000001101001\\r\\nContent-Disposition: form-data; name=\\\"name\\\"\\r\\n\\r\\n<string>\\r\\n-----011000010111000001101001\\r\\nContent-Disposition: form-data; name=\\\"files\\\"\\r\\n\\r\\n[\\n  \\\"<string>\\\"\\n]\\r\\n-----011000010111000001101001\\r\\nContent-Disposition: form-data; name=\\\"description\\\"\\r\\n\\r\\n<string>\\r\\n-----011000010111000001101001\\r\\nContent-Disposition: form-data; name=\\\"labels\\\"\\r\\n\\r\\n<string>\\r\\n-----011000010111000001101001--\\r\\n\\r\\n\"\n",
    "headers = {\"Content-Type\": \"multipart/form-data\"}\n",
    "\n",
    "response = requests.request(\"POST\", url, data=payload, headers=headers)\n",
    "\n",
    "print(response.text)"
   ]
  },
  {
   "cell_type": "code",
   "execution_count": 12,
   "metadata": {},
   "outputs": [
    {
     "name": "stdout",
     "output_type": "stream",
     "text": [
      "400\n"
     ]
    }
   ],
   "source": [
    "import requests\n",
    "\n",
    "url = \"https://api.elevenlabs.io/v1/voices/add\"\n",
    "\n",
    "payload = \"-----011000010111000001101001\\r\\nContent-Disposition: form-data; name=\\\"files\\\"\\r\\n\\r\\n[\\n  \\\"./src/15sec.mp3\\\"\\n]\\r\\n-----011000010111000001101001\\r\\nContent-Disposition: form-data; name=\\\"labels\\\"\\r\\n\\r\\nKOREAN\\r\\n-----011000010111000001101001\\r\\nContent-Disposition: form-data; name=\\\"description\\\"\\r\\n\\r\\nthis is api test\\r\\n-----011000010111000001101001\\r\\nContent-Disposition: form-data; name=\\\"name\\\"\\r\\n\\r\\napi tes_15_sec\\r\\n-----011000010111000001101001--\\r\\n\\r\\n\"\n",
    "headers = {\n",
    "    \"xi-api-key\": XI_API_KEY,\n",
    "    \"Content-Type\": \"multipart/form-data\"\n",
    "}\n",
    "\n",
    "response = requests.request(\"POST\", url, data=payload, headers=headers)\n",
    "\n",
    "print(response.status_code)"
   ]
  },
  {
   "cell_type": "code",
   "execution_count": 11,
   "metadata": {},
   "outputs": [
    {
     "name": "stdout",
     "output_type": "stream",
     "text": [
      "{\"detail\":\"Missing boundary in multipart.\"}\n"
     ]
    }
   ],
   "source": [
    "import requests\n",
    "\n",
    "url = \"https://api.elevenlabs.io/v1/voices/add\"\n",
    "\n",
    "payload = \"-----011000010111000001101001\\r\\nContent-Disposition: form-data; name=\\\"files\\\"\\r\\n\\r\\n[\\n  \\\"./src/15sec.mp3\\\"\\n]\\r\\n-----011000010111000001101001\\r\\nContent-Disposition: form-data; name=\\\"name\\\"\\r\\n\\r\\napi tes_15_sec\\r\\n-----011000010111000001101001--\\r\\n\\r\\n\"\n",
    "headers = {\n",
    "    \"xi-api-key\":  XI_API_KEY,\n",
    "    \"Content-Type\": \"multipart/form-data\"\n",
    "}\n",
    "\n",
    "response = requests.request(\"POST\", url, data=payload, headers=headers)\n",
    "\n",
    "print(response.text)"
   ]
  },
  {
   "cell_type": "code",
   "execution_count": null,
   "metadata": {},
   "outputs": [],
   "source": [
    "#streaming\n",
    "\n",
    "url = \"https://api.elevenlabs.io/v1/text-to-speech/{voice_id}/stream\"\n",
    "\n",
    "payload = {\n",
    "    \"text\": \"<string>\",\n",
    "    \"model_id\": \"<string>\",\n",
    "    \"voice_settings\": {\n",
    "        \"stability\": 123,\n",
    "        \"similarity_boost\": 123,\n",
    "        \"style\": 123,\n",
    "        \"use_speaker_boost\": True\n",
    "    },\n",
    "    \"pronunciation_dictionary_locators\": [\n",
    "        {\n",
    "            \"pronunciation_dictionary_id\": \"<string>\",\n",
    "            \"version_id\": \"<string>\"\n",
    "        }\n",
    "    ],\n",
    "    \"seed\": 123,\n",
    "    \"previous_text\": \"<string>\",\n",
    "    \"next_text\": \"<string>\",\n",
    "    \"previous_request_ids\": [\"<string>\"],\n",
    "    \"next_request_ids\": [\"<string>\"]\n",
    "}\n",
    "headers = {\"Content-Type\": \"application/json\"}\n",
    "\n",
    "response = requests.request(\"POST\", url, json=payload, headers=headers)\n",
    "\n",
    "print(response.text)"
   ]
  },
  {
   "cell_type": "code",
   "execution_count": 16,
   "metadata": {},
   "outputs": [
    {
     "ename": "ApiError",
     "evalue": "status_code: 400, body: {'detail': {'status': 'voice_limit_reached', 'message': 'You have reached your maximum amount of custom voices (10 / 10). You can upgrade your subscription to increase your custom voice limit.'}}",
     "output_type": "error",
     "traceback": [
      "\u001b[0;31m---------------------------------------------------------------------------\u001b[0m",
      "\u001b[0;31mApiError\u001b[0m                                  Traceback (most recent call last)",
      "\u001b[0;32m/var/folders/t0/ksr2kc914q1_fm3py9p0qxqm0000gn/T/ipykernel_1163/2541926320.py\u001b[0m in \u001b[0;36m<module>\u001b[0;34m\u001b[0m\n\u001b[1;32m      6\u001b[0m )\n\u001b[1;32m      7\u001b[0m \u001b[0;34m\u001b[0m\u001b[0m\n\u001b[0;32m----> 8\u001b[0;31m voice = client.clone(\n\u001b[0m\u001b[1;32m      9\u001b[0m     \u001b[0mname\u001b[0m\u001b[0;34m=\u001b[0m\u001b[0;34m\"me\"\u001b[0m\u001b[0;34m,\u001b[0m\u001b[0;34m\u001b[0m\u001b[0;34m\u001b[0m\u001b[0m\n\u001b[1;32m     10\u001b[0m     \u001b[0mdescription\u001b[0m\u001b[0;34m=\u001b[0m\u001b[0;34m\"test api\"\u001b[0m\u001b[0;34m,\u001b[0m \u001b[0;31m# Optional\u001b[0m\u001b[0;34m\u001b[0m\u001b[0;34m\u001b[0m\u001b[0m\n",
      "\u001b[0;32m~/opt/anaconda3/lib/python3.9/site-packages/elevenlabs/client.py\u001b[0m in \u001b[0;36mclone\u001b[0;34m(self, name, files, description, labels, request_options)\u001b[0m\n\u001b[1;32m    105\u001b[0m               \u001b[0;34m-\u001b[0m \u001b[0mrequest_options\u001b[0m\u001b[0;34m:\u001b[0m \u001b[0mtyping\u001b[0m\u001b[0;34m.\u001b[0m\u001b[0mOptional\u001b[0m\u001b[0;34m[\u001b[0m\u001b[0mRequestOptions\u001b[0m\u001b[0;34m]\u001b[0m\u001b[0;34m.\u001b[0m \u001b[0mRequest\u001b[0m\u001b[0;34m-\u001b[0m\u001b[0mspecific\u001b[0m \u001b[0mconfiguration\u001b[0m\u001b[0;34m.\u001b[0m\u001b[0;34m\u001b[0m\u001b[0;34m\u001b[0m\u001b[0m\n\u001b[1;32m    106\u001b[0m         \"\"\"\n\u001b[0;32m--> 107\u001b[0;31m         add_voice_response = self.voices.add(\n\u001b[0m\u001b[1;32m    108\u001b[0m           \u001b[0mname\u001b[0m\u001b[0;34m=\u001b[0m\u001b[0mname\u001b[0m\u001b[0;34m,\u001b[0m\u001b[0;34m\u001b[0m\u001b[0;34m\u001b[0m\u001b[0m\n\u001b[1;32m    109\u001b[0m           \u001b[0mdescription\u001b[0m\u001b[0;34m=\u001b[0m\u001b[0mdescription\u001b[0m\u001b[0;34m,\u001b[0m\u001b[0;34m\u001b[0m\u001b[0;34m\u001b[0m\u001b[0m\n",
      "\u001b[0;32m~/opt/anaconda3/lib/python3.9/site-packages/elevenlabs/voices/client.py\u001b[0m in \u001b[0;36madd\u001b[0;34m(self, name, files, description, labels, request_options)\u001b[0m\n\u001b[1;32m    499\u001b[0m         \u001b[0;32mexcept\u001b[0m \u001b[0mJSONDecodeError\u001b[0m\u001b[0;34m:\u001b[0m\u001b[0;34m\u001b[0m\u001b[0;34m\u001b[0m\u001b[0m\n\u001b[1;32m    500\u001b[0m             \u001b[0;32mraise\u001b[0m \u001b[0mApiError\u001b[0m\u001b[0;34m(\u001b[0m\u001b[0mstatus_code\u001b[0m\u001b[0;34m=\u001b[0m\u001b[0m_response\u001b[0m\u001b[0;34m.\u001b[0m\u001b[0mstatus_code\u001b[0m\u001b[0;34m,\u001b[0m \u001b[0mbody\u001b[0m\u001b[0;34m=\u001b[0m\u001b[0m_response\u001b[0m\u001b[0;34m.\u001b[0m\u001b[0mtext\u001b[0m\u001b[0;34m)\u001b[0m\u001b[0;34m\u001b[0m\u001b[0;34m\u001b[0m\u001b[0m\n\u001b[0;32m--> 501\u001b[0;31m         \u001b[0;32mraise\u001b[0m \u001b[0mApiError\u001b[0m\u001b[0;34m(\u001b[0m\u001b[0mstatus_code\u001b[0m\u001b[0;34m=\u001b[0m\u001b[0m_response\u001b[0m\u001b[0;34m.\u001b[0m\u001b[0mstatus_code\u001b[0m\u001b[0;34m,\u001b[0m \u001b[0mbody\u001b[0m\u001b[0;34m=\u001b[0m\u001b[0m_response_json\u001b[0m\u001b[0;34m)\u001b[0m\u001b[0;34m\u001b[0m\u001b[0;34m\u001b[0m\u001b[0m\n\u001b[0m\u001b[1;32m    502\u001b[0m \u001b[0;34m\u001b[0m\u001b[0m\n\u001b[1;32m    503\u001b[0m     def edit(\n",
      "\u001b[0;31mApiError\u001b[0m: status_code: 400, body: {'detail': {'status': 'voice_limit_reached', 'message': 'You have reached your maximum amount of custom voices (10 / 10). You can upgrade your subscription to increase your custom voice limit.'}}"
     ]
    }
   ],
   "source": [
    "from elevenlabs.client import ElevenLabs\n",
    "from elevenlabs import save\n",
    "\n",
    "client = ElevenLabs(\n",
    "  api_key=XI_API_KEY\n",
    ")\n",
    "\n",
    "voice = client.clone(\n",
    "    name=\"me\",\n",
    "    description=\"test api\", # Optional\n",
    "    files=[\"./src/15sec.mp3\",\"./src/24sec.mp3\"]\n",
    ")\n",
    "audio = client.generate(text=\"안녕, (관객 이름)아. 나야. 오래 기다렸어. 잠시 머물던 이 세상에서, 순간의 아름다움을 조금 더 깊이 느꼈다면 어땠을까. 하늘을 수놓는 별빛 아래에서, 우리는 잠시 머물러 있는 존재일 뿐이야. 지금 나는 시간의 바다를 건너, 이 작은 속삭임을 보내. 마음 속 작은 빛이 되어, 언젠가 너의 길을 밝히기를..내가 여기 너와 함께 있듯이, 너도 항상 너 자신과 함께 있어. 삶이 모든 순간, 그 자체로 완전한 하나의 시가 되기를. 숨결 하나하나가 의미를 가지고, 모든 순간이 행복의 노래가 되기를.\",\n",
    "                        voice=voice, model=\"eleven_multilingual_v2\")\n",
    "\n",
    "save(audio, \"./src/my-file.mp3\")\n"
   ]
  },
  {
   "cell_type": "code",
   "execution_count": 3,
   "metadata": {},
   "outputs": [
    {
     "name": "stdout",
     "output_type": "stream",
     "text": [
      "Collecting dotenv\n",
      "  Using cached dotenv-0.0.5.tar.gz (2.4 kB)\n",
      "  Installing build dependencies ... \u001b[?25ldone\n",
      "\u001b[?25h  Getting requirements to build wheel ... \u001b[?25ldone\n",
      "\u001b[?25h  Installing backend dependencies ... \u001b[?25lerror\n",
      "  \u001b[1;31merror\u001b[0m: \u001b[1msubprocess-exited-with-error\u001b[0m\n",
      "  \n",
      "  \u001b[31m×\u001b[0m \u001b[32mpip subprocess to install backend dependencies\u001b[0m did not run successfully.\n",
      "  \u001b[31m│\u001b[0m exit code: \u001b[1;36m1\u001b[0m\n",
      "  \u001b[31m╰─>\u001b[0m \u001b[31m[29 lines of output]\u001b[0m\n",
      "  \u001b[31m   \u001b[0m Collecting distribute\n",
      "  \u001b[31m   \u001b[0m   Using cached distribute-0.7.3.zip (145 kB)\n",
      "  \u001b[31m   \u001b[0m   Installing build dependencies: started\n",
      "  \u001b[31m   \u001b[0m   Installing build dependencies: finished with status 'done'\n",
      "  \u001b[31m   \u001b[0m   Getting requirements to build wheel: started\n",
      "  \u001b[31m   \u001b[0m   Getting requirements to build wheel: finished with status 'done'\n",
      "  \u001b[31m   \u001b[0m   Preparing metadata (pyproject.toml): started\n",
      "  \u001b[31m   \u001b[0m   Preparing metadata (pyproject.toml): finished with status 'error'\n",
      "  \u001b[31m   \u001b[0m   \u001b[1;31merror\u001b[0m: \u001b[1msubprocess-exited-with-error\u001b[0m\n",
      "  \u001b[31m   \u001b[0m \n",
      "  \u001b[31m   \u001b[0m   \u001b[31m×\u001b[0m \u001b[32mPreparing metadata \u001b[0m\u001b[1;32m(\u001b[0m\u001b[32mpyproject.toml\u001b[0m\u001b[1;32m)\u001b[0m did not run successfully.\n",
      "  \u001b[31m   \u001b[0m   \u001b[31m│\u001b[0m exit code: \u001b[1;36m1\u001b[0m\n",
      "  \u001b[31m   \u001b[0m   \u001b[31m╰─>\u001b[0m \u001b[31m[6 lines of output]\u001b[0m\n",
      "  \u001b[31m   \u001b[0m   \u001b[31m   \u001b[0m usage: setup.py [global_opts] cmd1 [cmd1_opts] [cmd2 [cmd2_opts] ...]\n",
      "  \u001b[31m   \u001b[0m   \u001b[31m   \u001b[0m    or: setup.py --help [cmd1 cmd2 ...]\n",
      "  \u001b[31m   \u001b[0m   \u001b[31m   \u001b[0m    or: setup.py --help-commands\n",
      "  \u001b[31m   \u001b[0m   \u001b[31m   \u001b[0m    or: setup.py cmd --help\n",
      "  \u001b[31m   \u001b[0m   \u001b[31m   \u001b[0m\n",
      "  \u001b[31m   \u001b[0m   \u001b[31m   \u001b[0m error: invalid command 'dist_info'\n",
      "  \u001b[31m   \u001b[0m   \u001b[31m   \u001b[0m \u001b[31m[end of output]\u001b[0m\n",
      "  \u001b[31m   \u001b[0m \n",
      "  \u001b[31m   \u001b[0m   \u001b[1;35mnote\u001b[0m: This error originates from a subprocess, and is likely not a problem with pip.\n",
      "  \u001b[31m   \u001b[0m \u001b[1;31merror\u001b[0m: \u001b[1mmetadata-generation-failed\u001b[0m\n",
      "  \u001b[31m   \u001b[0m \n",
      "  \u001b[31m   \u001b[0m \u001b[31m×\u001b[0m Encountered error while generating package metadata.\n",
      "  \u001b[31m   \u001b[0m \u001b[31m╰─>\u001b[0m See above for output.\n",
      "  \u001b[31m   \u001b[0m \n",
      "  \u001b[31m   \u001b[0m \u001b[1;35mnote\u001b[0m: This is an issue with the package mentioned above, not pip.\n",
      "  \u001b[31m   \u001b[0m \u001b[1;36mhint\u001b[0m: See above for details.\n",
      "  \u001b[31m   \u001b[0m \u001b[31m[end of output]\u001b[0m\n",
      "  \n",
      "  \u001b[1;35mnote\u001b[0m: This error originates from a subprocess, and is likely not a problem with pip.\n",
      "\u001b[?25h\u001b[1;31merror\u001b[0m: \u001b[1msubprocess-exited-with-error\u001b[0m\n",
      "\n",
      "\u001b[31m×\u001b[0m \u001b[32mpip subprocess to install backend dependencies\u001b[0m did not run successfully.\n",
      "\u001b[31m│\u001b[0m exit code: \u001b[1;36m1\u001b[0m\n",
      "\u001b[31m╰─>\u001b[0m See above for output.\n",
      "\n",
      "\u001b[1;35mnote\u001b[0m: This error originates from a subprocess, and is likely not a problem with pip.\n"
     ]
    }
   ],
   "source": []
  },
  {
   "cell_type": "code",
   "execution_count": null,
   "metadata": {},
   "outputs": [],
   "source": []
  }
 ],
 "metadata": {
  "kernelspec": {
   "display_name": "Python 3",
   "language": "python",
   "name": "python3"
  },
  "language_info": {
   "codemirror_mode": {
    "name": "ipython",
    "version": 3
   },
   "file_extension": ".py",
   "mimetype": "text/x-python",
   "name": "python",
   "nbconvert_exporter": "python",
   "pygments_lexer": "ipython3",
   "version": "3.9.7"
  }
 },
 "nbformat": 4,
 "nbformat_minor": 2
}
